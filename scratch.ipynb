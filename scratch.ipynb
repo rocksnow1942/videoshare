{
 "cells": [
  {
   "cell_type": "code",
   "execution_count": 5,
   "metadata": {},
   "outputs": [],
   "source": [
    "import os\n",
    "from datetime import datetime"
   ]
  },
  {
   "cell_type": "code",
   "execution_count": 3,
   "metadata": {},
   "outputs": [],
   "source": [
    "from PIL import Image"
   ]
  },
  {
   "cell_type": "code",
   "execution_count": 6,
   "metadata": {},
   "outputs": [],
   "source": [
    "def text_detection(file,*args,**kwargs):\n",
    "    image = cv2.imread(file)\n",
    "    return pytesseract.image_to_string(image, *args, **kwargs)\n"
   ]
  },
  {
   "cell_type": "code",
   "execution_count": 2,
   "metadata": {},
   "outputs": [],
   "source": [
    "file = \"/Volumes/store/Pictures/Iphone/weiwei_iphone11_cloud/ic-15/58993734172__3BF98DC3-7BDD-4A31-8367-B9EF91C572A2.JPG\""
   ]
  },
  {
   "cell_type": "code",
   "execution_count": 3,
   "metadata": {},
   "outputs": [],
   "source": [
    "file2=\"/Volumes/store/Pictures/Iphone/weiwei_iphone11_cloud/ic-15/4004573033.jpg\"\n",
    "file3=\"/Volumes/store/Pictures/Iphone/weiwei_iphone11_cloud/ic-15/58041764408__B8164EAA-D22E-4BCC-97AB-4695CE8BF256.JPG\""
   ]
  },
  {
   "cell_type": "code",
   "execution_count": 1,
   "metadata": {},
   "outputs": [],
   "source": [
    "file = \"/Volumes/store/Pictures/Iphone/weiwei_iphone11_cloud/icloud-2/KAN07662.JPG\""
   ]
  },
  {
   "cell_type": "code",
   "execution_count": 40,
   "metadata": {},
   "outputs": [
    {
     "data": {
      "text/plain": [
       "datetime.datetime(2022, 8, 7, 2, 24, 41, 475259)"
      ]
     },
     "execution_count": 40,
     "metadata": {},
     "output_type": "execute_result"
    }
   ],
   "source": [
    "datetime.fromtimestamp(os.stat(file).st_mtime)"
   ]
  },
  {
   "cell_type": "code",
   "execution_count": 4,
   "metadata": {},
   "outputs": [
    {
     "data": {
      "text/plain": [
       "{256: 2582,\n",
       " 257: 1936,\n",
       " 34665: 122,\n",
       " 271: 'HUAWEI',\n",
       " 272: 'NOH-AL10',\n",
       " 306: '2022:02:11 19:37:18',\n",
       " 37121: b'\\x00\\x00\\x00\\x00',\n",
       " 41987: 0,\n",
       " 34855: 320,\n",
       " 37384: 0,\n",
       " 37385: 0,\n",
       " 37386: 6.67,\n",
       " 33434: 0.0301,\n",
       " 33437: 4.0}"
      ]
     },
     "execution_count": 4,
     "metadata": {},
     "output_type": "execute_result"
    }
   ],
   "source": [
    "Image.open(file)._getexif()"
   ]
  },
  {
   "cell_type": "code",
   "execution_count": 38,
   "metadata": {},
   "outputs": [
    {
     "ename": "TypeError",
     "evalue": "an integer is required (got type os.stat_result)",
     "output_type": "error",
     "traceback": [
      "\u001b[0;31m---------------------------------------------------------------------------\u001b[0m",
      "\u001b[0;31mTypeError\u001b[0m                                 Traceback (most recent call last)",
      "\u001b[1;32m/Volumes/store/VideoShare/scratch.ipynb Cell 9\u001b[0m line \u001b[0;36m1\n\u001b[0;32m----> <a href='vscode-notebook-cell:/Volumes/store/VideoShare/scratch.ipynb#X36sZmlsZQ%3D%3D?line=0'>1</a>\u001b[0m datetime\u001b[39m.\u001b[39;49mfromtimestamp(os\u001b[39m.\u001b[39;49mstat(file))\n",
      "\u001b[0;31mTypeError\u001b[0m: an integer is required (got type os.stat_result)"
     ]
    }
   ],
   "source": [
    "datetime.fromtimestamp(os.stat(file))"
   ]
  },
  {
   "cell_type": "code",
   "execution_count": 30,
   "metadata": {},
   "outputs": [
    {
     "data": {
      "text/plain": [
       "os.stat_result(st_mode=33152, st_ino=101604, st_dev=16777232, st_nlink=1, st_uid=501, st_gid=20, st_size=227947, st_atime=1699170670, st_mtime=1640360240, st_ctime=1699168284)"
      ]
     },
     "execution_count": 30,
     "metadata": {},
     "output_type": "execute_result"
    }
   ],
   "source": [
    "os.stat(file)"
   ]
  },
  {
   "cell_type": "code",
   "execution_count": 14,
   "metadata": {},
   "outputs": [],
   "source": [
    "from pathlib import Path"
   ]
  },
  {
   "cell_type": "code",
   "execution_count": 15,
   "metadata": {},
   "outputs": [],
   "source": [
    "a  = Path(file)"
   ]
  },
  {
   "cell_type": "code",
   "execution_count": 21,
   "metadata": {},
   "outputs": [
    {
     "data": {
      "text/plain": [
       "PosixPath('/Volumes/store/Pictures/Iphone/weiwei_iphone11_cloud/icloud-2')"
      ]
     },
     "execution_count": 21,
     "metadata": {},
     "output_type": "execute_result"
    }
   ],
   "source": [
    "a.parent/\"\""
   ]
  },
  {
   "cell_type": "code",
   "execution_count": 1,
   "metadata": {},
   "outputs": [],
   "source": [
    "file = \"/Volumes/store/Pictures/Iphone/weiwei_images/no_date/8a2c021a751c7c02e95d248df8e3be8a.jpg\""
   ]
  },
  {
   "cell_type": "code",
   "execution_count": 19,
   "metadata": {},
   "outputs": [
    {
     "data": {
      "text/plain": [
       "'ffi i)\\n\\nUfa\\n\\n——~\\n\\nee\\n\\na NES\\nKemeyes\\n\\n.\\n\\n'"
      ]
     },
     "execution_count": 19,
     "metadata": {},
     "output_type": "execute_result"
    }
   ],
   "source": [
    "text_detection(\"/Volumes/store/Pictures/Iphone/dups/IMG_5191.JPG\")"
   ]
  },
  {
   "cell_type": "code",
   "execution_count": 20,
   "metadata": {},
   "outputs": [
    {
     "name": "stdout",
     "output_type": "stream",
     "text": [
      "1:32 all © &)\n",
      "\n",
      "aun, ZOEY Loves Jewelry wee\n",
      "< 30D HALE &\n",
      "\n",
      "Zn [wes Jemaley xT AJ\n",
      "\n",
      "10:53\n",
      "\n",
      "Zoey Loves Jeneley\n",
      "\n",
      "Zoey Loves Jemely\n",
      "\n",
      "Ger Bua Qaros Merwe B sire\n",
      "\n",
      "©) He... © @\n",
      "\n",
      "\n"
     ]
    }
   ],
   "source": [
    "print(pytesseract.image_to_string(\"/Volumes/store/Pictures/Iphone/dups/IMG_5122.PNG\"))"
   ]
  },
  {
   "cell_type": "code",
   "execution_count": null,
   "metadata": {},
   "outputs": [],
   "source": [
    "text_detection(file3)"
   ]
  },
  {
   "cell_type": "markdown",
   "metadata": {},
   "source": []
  },
  {
   "cell_type": "code",
   "execution_count": null,
   "metadata": {},
   "outputs": [],
   "source": [
    "text = pytesseract.image_to_string(image)\n"
   ]
  },
  {
   "cell_type": "code",
   "execution_count": null,
   "metadata": {},
   "outputs": [],
   "source": []
  },
  {
   "cell_type": "code",
   "execution_count": null,
   "metadata": {},
   "outputs": [],
   "source": [
    "text2"
   ]
  },
  {
   "cell_type": "code",
   "execution_count": null,
   "metadata": {},
   "outputs": [],
   "source": [
    "print(text)"
   ]
  },
  {
   "cell_type": "code",
   "execution_count": null,
   "metadata": {},
   "outputs": [],
   "source": [
    "def formatTime(t):\n",
    "    date = datetime.fromtimestamp(t)\n",
    "    return date.strftime('%Y'),date.strftime('%m-%d')"
   ]
  },
  {
   "cell_type": "code",
   "execution_count": null,
   "metadata": {},
   "outputs": [],
   "source": [
    "stat = os.stat(file)"
   ]
  },
  {
   "cell_type": "code",
   "execution_count": null,
   "metadata": {},
   "outputs": [],
   "source": [
    "file = \"/Volumes/store/Pictures/Iphone/weiwei's iphone 11/icloud-1/IMG_5097.HEIC\""
   ]
  },
  {
   "cell_type": "code",
   "execution_count": null,
   "metadata": {},
   "outputs": [],
   "source": [
    "formatTime(stat.st_atime)"
   ]
  },
  {
   "cell_type": "code",
   "execution_count": null,
   "metadata": {},
   "outputs": [],
   "source": [
    "\n",
    "\n",
    "heif_file = pyheif.read_heif(file)\n",
    "\n",
    "for meta in heif_file.metadata or []:\n",
    "    print(meta[\"data\"])\n",
    "    file_stream = io.BytesIO(meta[\"data\"][6:])\n",
    "    tags = exifread.process_file(file_stream, details=False)\n",
    "    for k, v in tags.items():\n",
    "        print(k, v)\n",
    "\n",
    "# print(tags[\"EXIF DateTimeOriginal\"])\n",
    "# print(tags[\"Image DateTime\"])\n",
    "\n",
    "\n",
    "\n",
    "\n",
    "\n",
    "\n"
   ]
  },
  {
   "cell_type": "code",
   "execution_count": null,
   "metadata": {},
   "outputs": [],
   "source": [
    "t = tags[\"EXIF DateTimeOriginal\"]"
   ]
  },
  {
   "cell_type": "code",
   "execution_count": null,
   "metadata": {},
   "outputs": [],
   "source": [
    "str(t)"
   ]
  },
  {
   "cell_type": "code",
   "execution_count": null,
   "metadata": {},
   "outputs": [],
   "source": [
    "time = datetime.strptime(str(t), '%Y:%m:%d %H:%M:%S%p')"
   ]
  },
  {
   "cell_type": "code",
   "execution_count": null,
   "metadata": {},
   "outputs": [],
   "source": [
    "t.timestamp()"
   ]
  },
  {
   "cell_type": "code",
   "execution_count": null,
   "metadata": {},
   "outputs": [],
   "source": [
    "os.utime(file, (t.timestamp(), t.timestamp()))"
   ]
  },
  {
   "cell_type": "code",
   "execution_count": null,
   "metadata": {},
   "outputs": [],
   "source": [
    "import exiftool"
   ]
  },
  {
   "cell_type": "code",
   "execution_count": null,
   "metadata": {},
   "outputs": [],
   "source": []
  }
 ],
 "metadata": {
  "kernelspec": {
   "display_name": "videoshare",
   "language": "python",
   "name": "python3"
  },
  "language_info": {
   "codemirror_mode": {
    "name": "ipython",
    "version": 3
   },
   "file_extension": ".py",
   "mimetype": "text/x-python",
   "name": "python",
   "nbconvert_exporter": "python",
   "pygments_lexer": "ipython3",
   "version": "3.8.2"
  },
  "orig_nbformat": 4
 },
 "nbformat": 4,
 "nbformat_minor": 2
}
